{
 "cells": [
  {
   "cell_type": "code",
   "execution_count": 1,
   "metadata": {
    "collapsed": false
   },
   "outputs": [],
   "source": [
    "#import necessary processes for the procedures\n",
    "import csv\n",
    "import matplotlib.pyplot as plt\n",
    "import datetime\n",
    "from datetime import datetime as dt\n",
    "import numpy"
   ]
  },
  {
   "cell_type": "code",
   "execution_count": 3,
   "metadata": {
    "collapsed": false
   },
   "outputs": [],
   "source": [
    "#Function: Read in a file based on a date (later will change to variable, loop through)\n",
    "def readFile (filename, folder):   \n",
    "    x = list(csv.reader(open(folder+'/'+filename)))   #read in the csv file\n",
    "    return x"
   ]
  },
  {
   "cell_type": "code",
   "execution_count": 4,
   "metadata": {
    "collapsed": true
   },
   "outputs": [],
   "source": [
    "#Function: remove the header row if it exists and clean it from the import\n",
    "def setheader(x):\n",
    "    x_head = x[0]\n",
    "    return x_head\n",
    "\n",
    "def cleantop (x,zz):\n",
    "    if(x[0][0] == zz):\n",
    "        del x[0]\n",
    "    return x"
   ]
  },
  {
   "cell_type": "code",
   "execution_count": 5,
   "metadata": {
    "collapsed": false
   },
   "outputs": [],
   "source": [
    "#Read in a dataset to 'ds' variable, save headers for reference to 'ds_headers'\n",
    "ds = readFile ('ethiopia.csv','gfi-usb')\n",
    "ds_headers = setheader(ds)\n",
    "ds = cleantop(ds,'id')"
   ]
  },
  {
   "cell_type": "code",
   "execution_count": 6,
   "metadata": {
    "collapsed": false
   },
   "outputs": [
    {
     "name": "stdout",
     "output_type": "stream",
     "text": [
      "68684\n",
      "['id', 'commodity_id', 'src_country_id', 'country_id', 'month', 'quantity_1', 'quantity_2', 'value', 'is_import', 'currency', 'unit_1_id', 'unit_2_id', 'vessel_value', 'vessel_weight', 'containerized_vessel_value', 'containerized_vessel_weight', 'ts']\n"
     ]
    }
   ],
   "source": [
    "#Check the data\n",
    "print(len(ds))\n",
    "print(ds_headers)"
   ]
  },
  {
   "cell_type": "code",
   "execution_count": 7,
   "metadata": {
    "collapsed": true
   },
   "outputs": [],
   "source": [
    "#Function: Confirm that a value can be cast to a float\n",
    "def is_number(s):\n",
    "    try:\n",
    "        float(s)\n",
    "        return True\n",
    "    except ValueError:\n",
    "        return False"
   ]
  },
  {
   "cell_type": "code",
   "execution_count": 8,
   "metadata": {
    "collapsed": true
   },
   "outputs": [],
   "source": [
    "#Function: get the average value for the data points in a given month for the dataset. \n",
    "#Called in the main 'plot_commodity' procedure\n",
    "#Requires:\n",
    "#   a table of distinct dates that appear\n",
    "#   a list of the date points\n",
    "#   a list of the price points\n",
    "def get_monthly_baseline(dist_dates, date_points, price_points):\n",
    "    amt = [0] * len(dist_dates)\n",
    "    cnt = [0] * len(dist_dates)\n",
    "    ap = [0] * len(dist_dates)\n",
    "    for i in range (0,len(date_points)):\n",
    "        uv = dist_dates.index(date_points[i])\n",
    "        cnt[uv] += 1\n",
    "        amt[uv] += price_points[i]\n",
    "    for j in range(0,len(dist_dates)):\n",
    "        ap[j] = amt[j]/cnt[j]\n",
    "    return ap"
   ]
  },
  {
   "cell_type": "code",
   "execution_count": 9,
   "metadata": {
    "collapsed": false
   },
   "outputs": [],
   "source": [
    "#Function: a function that returns and prints all data points that fall outside of the t_stat threshold (e.g. 1.96 for 95% CI)\n",
    "#Called in the main 'plot_commodity' procedure\n",
    "#Requires:\n",
    "#   a list of the date points\n",
    "#   a list of the price points\n",
    "#   a table of distinct dates that appear\n",
    "#   a table of the monthly averages, generated in the 'get_monthly_baseline' function\n",
    "\n",
    "def normalize_and_id(dates, prices, dist_dates, month_base, t_thresh):\n",
    "    #Create the normalized price dataset\n",
    "    norm_price =[]\n",
    "    for i in range(0,len(prices)):\n",
    "        price = prices[i]\n",
    "        base = month_base[dist_dates.index(dates[i])]\n",
    "        norm_price.append(price-base)\n",
    "    #Calculate standard deviation\n",
    "    sv = numpy.std(norm_price, axis=0)\n",
    "    #Flag all points outside of 1.96 sds as anomalous orders\n",
    "    anom_orders = []\n",
    "    for j in range(0,len(norm_price)):\n",
    "        if norm_price[j]/sv > t_thresh:\n",
    "            anom_orders.append(['Date: '+str(dates[j])+' order price: '+str(prices[j])+' T-stat: '+str(norm_price[j]/sv)])\n",
    "            \n",
    "    print(anom_orders)"
   ]
  },
  {
   "cell_type": "code",
   "execution_count": 10,
   "metadata": {
    "collapsed": false,
    "scrolled": false
   },
   "outputs": [],
   "source": [
    "# Main Function that takes in a commodity ID, a data set (ds), and a currency and units to filter on\n",
    "# This procedure: 1) plots the relevant data, 2) creates a monthly baseline, and 3) calculates normalized values and prints out\n",
    "# any rows outside the threshold (defaulted to 1.96 to represent a 95% CI).\n",
    "def plot_commodity (cid, data, currency, units, t_thresh):\n",
    "    commodity_id = cid\n",
    "    dataset = data\n",
    "    ids = []\n",
    "    for i in range(0,len(dataset)):\n",
    "        if int(dataset[i][1]) == commodity_id and is_number(dataset[i][7]) and is_number(dataset[i][5]):\n",
    "            if int(dataset[i][5]) > 0 and dataset[i][9] == currency and dataset[i][10] == units:\n",
    "                ids.append(i)\n",
    "    #print(ids)\n",
    "    x_out = []\n",
    "    y_out = []\n",
    "    x_in = []\n",
    "    y_in = []\n",
    "    for id in ids:\n",
    "        if dataset[id][8] == 't':\n",
    "            x_out.append(dt.strptime(dataset[id][4], '%Y-%m-%d').date())\n",
    "            y_out.append(float(dataset[id][7])/float(dataset[id][5]))\n",
    "        else:\n",
    "            x_in.append(dt.strptime(dataset[id][4], '%Y-%m-%d').date())\n",
    "            y_in.append(float(dataset[id][7])/float(dataset[id][5]))\n",
    "        dist_dates = []\n",
    "    for i in x_out:\n",
    "        if i not in dist_dates:\n",
    "            dist_dates.append(i)\n",
    "        else:\n",
    "            pass\n",
    "    export_val, = plt.plot(x_out,y_out,'ro',label='exports')\n",
    "    import_val, = plt.plot(x_in,y_in,'bo',label='imports')\n",
    "    plt.ylabel('price per unit')\n",
    "    plt.xlabel('month')\n",
    "    plt.legend()\n",
    "    plt.show()\n",
    "    month_base = get_monthly_baseline(dist_dates, x_out,y_out)\n",
    "    #for i in range(0,len(dist_dates)):\n",
    "    #    print (str(dist_dates[i])+' - '+str(month_base[i]))\n",
    "    print('### Printing all points that fall outside of normalized threshold ###')\n",
    "    normalize_and_id(x_out, y_out, dist_dates, month_base, t_thresh)"
   ]
  },
  {
   "cell_type": "code",
   "execution_count": 11,
   "metadata": {
    "collapsed": false,
    "scrolled": true
   },
   "outputs": [
    {
     "data": {
      "image/png": "[encoded data removed]",
      "text/plain": [
       "<matplotlib.figure.Figure at 0x2afdad79710>"
      ]
     },
     "metadata": {},
     "output_type": "display_data"
    },
    {
     "name": "stdout",
     "output_type": "stream",
     "text": [
      "### Printing all points that fall outside of normalized threshold ###\n",
      "[['Date: 2015-05-01 order price: 7.55 T-stat: 2.68383682845'], ['Date: 2015-07-01 order price: 11.6 T-stat: 5.73899557446'], ['Date: 2015-08-01 order price: 9.047619047619047 T-stat: 3.63574527744'], ['Date: 2015-10-01 order price: 6.580669144981413 T-stat: 2.26077968795'], ['Date: 2016-01-01 order price: 6.5240248226950355 T-stat: 2.37861034538'], ['Date: 2016-02-01 order price: 5.924594594594595 T-stat: 2.07321264893'], ['Date: 2016-05-01 order price: 7.79 T-stat: 3.49741277286'], ['Date: 2016-08-01 order price: 6.384136967155835 T-stat: 2.28313500144'], ['Date: 2016-12-01 order price: 13.544444444444444 T-stat: 7.65627400857']]\n"
     ]
    }
   ],
   "source": [
    "#Here's a trial run - in this case:\n",
    "# Plotting coffee exports (and one import) for Ethiopia\n",
    "# Filtering to only entrees in Euros and measured in kilos (all entries)\n",
    "# Printing any points that fall outside a 95% confidence interval\n",
    "plot_commodity(28671,ds,'EUR','24', 1.96)"
   ]
  },
  {
   "cell_type": "code",
   "execution_count": null,
   "metadata": {
    "collapsed": true
   },
   "outputs": [],
   "source": []
  }
 ],
 "metadata": {
  "kernelspec": {
   "display_name": "Python 3",
   "language": "python",
   "name": "python3"
  },
  "language_info": {
   "codemirror_mode": {
    "name": "ipython",
    "version": 3
   },
   "file_extension": ".py",
   "mimetype": "text/x-python",
   "name": "python",
   "nbconvert_exporter": "python",
   "pygments_lexer": "ipython3",
   "version": "3.6.0"
  }
 },
 "nbformat": 4,
 "nbformat_minor": 2
}
