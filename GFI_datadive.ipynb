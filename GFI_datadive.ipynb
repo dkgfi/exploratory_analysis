{
 "cells": [
  {
   "cell_type": "code",
   "execution_count": 1,
   "metadata": {
    "collapsed": false
   },
   "outputs": [],
   "source": [
    "#import necessary processes\n",
    "import csv\n",
    "import matplotlib.pyplot as plt\n",
    "import datetime\n",
    "from datetime import datetime as dt"
   ]
  },
  {
   "cell_type": "code",
   "execution_count": 2,
   "metadata": {
    "collapsed": false
   },
   "outputs": [],
   "source": [
    "#Function: Read in a file based on a date (later will change to variable, loop through)\n",
    "def readFile (filename, folder):   \n",
    "    x = list(csv.reader(open(folder+'/'+filename)))   #read in the csv file\n",
    "    return x"
   ]
  },
  {
   "cell_type": "code",
   "execution_count": 3,
   "metadata": {
    "collapsed": true
   },
   "outputs": [],
   "source": [
    "#Function: remove the header row if it exists\n",
    "def setheader(x):\n",
    "    x_head = x[0]\n",
    "    return x_head\n",
    "\n",
    "def cleantop (x,zz):\n",
    "    if(x[0][0] == zz):\n",
    "        del x[0]\n",
    "    return x"
   ]
  },
  {
   "cell_type": "code",
   "execution_count": 6,
   "metadata": {
    "collapsed": false
   },
   "outputs": [],
   "source": [
    "south_africa = readFile ('south_africa.csv','gfi-usb')\n",
    "south_africa_headers = setheader(south_africa)\n",
    "south_africa = cleantop(south_africa,'id')"
   ]
  },
  {
   "cell_type": "code",
   "execution_count": 7,
   "metadata": {
    "collapsed": false
   },
   "outputs": [
    {
     "name": "stdout",
     "output_type": "stream",
     "text": [
      "696951\n",
      "['id', 'commodity_id', 'src_country_id', 'country_id', 'month', 'quantity_1', 'quantity_2', 'value', 'is_import', 'currency', 'unit_1_id', 'unit_2_id', 'vessel_value', 'vessel_weight', 'containerized_vessel_value', 'containerized_vessel_weight', 'ts']\n"
     ]
    }
   ],
   "source": [
    "print(len(south_africa))\n",
    "print(south_africa_headers)"
   ]
  },
  {
   "cell_type": "code",
   "execution_count": 8,
   "metadata": {
    "collapsed": true
   },
   "outputs": [],
   "source": [
    "def is_number(s):\n",
    "    try:\n",
    "        float(s)\n",
    "        return True\n",
    "    except ValueError:\n",
    "        return False"
   ]
  },
  {
   "cell_type": "code",
   "execution_count": 12,
   "metadata": {
    "collapsed": false,
    "scrolled": false
   },
   "outputs": [],
   "source": [
    "#For South Afica Data (or pick a country)\n",
    "### By commodity:\n",
    "\n",
    "def plot_commodity (cid, data, currency, units):\n",
    "    commodity_id = cid\n",
    "    dataset = data\n",
    "    ids = []\n",
    "    for i in range(0,len(dataset)):\n",
    "        if int(dataset[i][1]) == commodity_id and is_number(dataset[i][7]) and is_number(dataset[i][5]):\n",
    "            if int(dataset[i][5]) > 0 and dataset[i][9] == currency and dataset[i][10] == units:\n",
    "                ids.append(i)\n",
    "    #print(ids)\n",
    "    x_out = []\n",
    "    y_out = []\n",
    "    x_in = []\n",
    "    y_in = []\n",
    "    for id in ids:\n",
    "        if dataset[id][8] == 't':\n",
    "            x_out.append(dt.strptime(dataset[id][4], '%Y-%m-%d').date())\n",
    "            y_out.append(float(dataset[id][7])/float(dataset[id][5]))\n",
    "        else:\n",
    "            x_in.append(dt.strptime(dataset[id][4], '%Y-%m-%d').date())\n",
    "            y_in.append(float(dataset[id][7])/float(dataset[id][5]))        \n",
    "    export_val, = plt.plot(x_out,y_out,'ro',label='exports')\n",
    "    import_val, = plt.plot(x_in,y_in,'bo',label='imports')\n",
    "    plt.ylabel('price per unit')\n",
    "    plt.xlabel('month')\n",
    "    plt.legend()\n",
    "    plt.show()\n",
    "    ### Filter out bad data\n",
    "    ### Create a monthly basis for price for imports and exports separately\n",
    "    ### Normalize vs. monthly price\n",
    "    ### Calculate SD, measure variation"
   ]
  },
  {
   "cell_type": "code",
   "execution_count": 15,
   "metadata": {
    "collapsed": false,
    "scrolled": true
   },
   "outputs": [
    {
     "data": {
      "image/png": "[encoded data removed]",
      "text/plain": [
       "<matplotlib.figure.Figure at 0x23bf5c3f668>"
      ]
     },
     "metadata": {},
     "output_type": "display_data"
    }
   ],
   "source": [
    "#Here's a trial run\n",
    "plot_commodity(34361,south_africa,'EUR','24')"
   ]
  },
  {
   "cell_type": "code",
   "execution_count": null,
   "metadata": {
    "collapsed": true
   },
   "outputs": [],
   "source": []
  }
 ],
 "metadata": {
  "kernelspec": {
   "display_name": "Python 3",
   "language": "python",
   "name": "python3"
  },
  "language_info": {
   "codemirror_mode": {
    "name": "ipython",
    "version": 3
   },
   "file_extension": ".py",
   "mimetype": "text/x-python",
   "name": "python",
   "nbconvert_exporter": "python",
   "pygments_lexer": "ipython3",
   "version": "3.6.0"
  }
 },
 "nbformat": 4,
 "nbformat_minor": 2
}
